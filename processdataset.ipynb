{
 "cells": [
  {
   "cell_type": "markdown",
   "metadata": {},
   "source": [
    "## Process and Label Dataset\n",
    "\n",
    "Here, we take as input a collected `messages.csv`, load it into a DataFrame, and iterate through the users/messages, displaying them (grouped by user) so they can be manually labelled as spam or not spam and output into `dataset.csv`."
   ]
  },
  {
   "cell_type": "code",
   "execution_count": 1,
   "metadata": {},
   "outputs": [],
   "source": [
    "import pandas as pd\n",
    "import numpy as np\n",
    "from ipywidgets import Button, HBox, VBox\n",
    "from IPython.display import display, clear_output\n",
    "from copy import copy"
   ]
  },
  {
   "cell_type": "code",
   "execution_count": 2,
   "metadata": {},
   "outputs": [
    {
     "data": {
      "text/html": [
       "<div>\n",
       "<style scoped>\n",
       "    .dataframe tbody tr th:only-of-type {\n",
       "        vertical-align: middle;\n",
       "    }\n",
       "\n",
       "    .dataframe tbody tr th {\n",
       "        vertical-align: top;\n",
       "    }\n",
       "\n",
       "    .dataframe thead th {\n",
       "        text-align: right;\n",
       "    }\n",
       "</style>\n",
       "<table border=\"1\" class=\"dataframe\">\n",
       "  <thead>\n",
       "    <tr style=\"text-align: right;\">\n",
       "      <th></th>\n",
       "      <th>user</th>\n",
       "      <th>message</th>\n",
       "      <th>logintime</th>\n",
       "      <th>time</th>\n",
       "      <th>spam</th>\n",
       "    </tr>\n",
       "  </thead>\n",
       "  <tbody>\n",
       "    <tr>\n",
       "      <th>0</th>\n",
       "      <td>Rangemage11</td>\n",
       "      <td>Can u look for some junk?</td>\n",
       "      <td>0</td>\n",
       "      <td>10</td>\n",
       "      <td>False</td>\n",
       "    </tr>\n",
       "    <tr>\n",
       "      <th>1</th>\n",
       "      <td>Deadman12314</td>\n",
       "      <td>Im tryin to find something for them to double</td>\n",
       "      <td>0</td>\n",
       "      <td>10</td>\n",
       "      <td>False</td>\n",
       "    </tr>\n",
       "    <tr>\n",
       "      <th>2</th>\n",
       "      <td>Deadman12314</td>\n",
       "      <td>I gave one a cannonball earlier instead of gold</td>\n",
       "      <td>0</td>\n",
       "      <td>30</td>\n",
       "      <td>False</td>\n",
       "    </tr>\n",
       "    <tr>\n",
       "      <th>3</th>\n",
       "      <td>Rangemage11</td>\n",
       "      <td>Deadman</td>\n",
       "      <td>0</td>\n",
       "      <td>38</td>\n",
       "      <td>False</td>\n",
       "    </tr>\n",
       "    <tr>\n",
       "      <th>4</th>\n",
       "      <td>Deadman12314</td>\n",
       "      <td>Yeah</td>\n",
       "      <td>0</td>\n",
       "      <td>60</td>\n",
       "      <td>False</td>\n",
       "    </tr>\n",
       "    <tr>\n",
       "      <th>5</th>\n",
       "      <td>Rangemage11</td>\n",
       "      <td>Give nme some junk?</td>\n",
       "      <td>0</td>\n",
       "      <td>65</td>\n",
       "      <td>False</td>\n",
       "    </tr>\n",
       "    <tr>\n",
       "      <th>6</th>\n",
       "      <td>Deadman12314</td>\n",
       "      <td>No sorry</td>\n",
       "      <td>0</td>\n",
       "      <td>72</td>\n",
       "      <td>False</td>\n",
       "    </tr>\n",
       "    <tr>\n",
       "      <th>7</th>\n",
       "      <td>Rangemage11</td>\n",
       "      <td>Aww</td>\n",
       "      <td>0</td>\n",
       "      <td>82</td>\n",
       "      <td>False</td>\n",
       "    </tr>\n",
       "    <tr>\n",
       "      <th>8</th>\n",
       "      <td>Rangemage11</td>\n",
       "      <td>Can someone give me 100k?</td>\n",
       "      <td>0</td>\n",
       "      <td>110</td>\n",
       "      <td>False</td>\n",
       "    </tr>\n",
       "    <tr>\n",
       "      <th>9</th>\n",
       "      <td>Deadman12314</td>\n",
       "      <td>Lol he took my spotted cape</td>\n",
       "      <td>0</td>\n",
       "      <td>111</td>\n",
       "      <td>False</td>\n",
       "    </tr>\n",
       "  </tbody>\n",
       "</table>\n",
       "</div>"
      ],
      "text/plain": [
       "           user                                          message  logintime  \\\n",
       "0   Rangemage11                        Can u look for some junk?          0   \n",
       "1  Deadman12314    Im tryin to find something for them to double          0   \n",
       "2  Deadman12314  I gave one a cannonball earlier instead of gold          0   \n",
       "3   Rangemage11                                          Deadman          0   \n",
       "4  Deadman12314                                             Yeah          0   \n",
       "5   Rangemage11                              Give nme some junk?          0   \n",
       "6  Deadman12314                                         No sorry          0   \n",
       "7   Rangemage11                                              Aww          0   \n",
       "8   Rangemage11                        Can someone give me 100k?          0   \n",
       "9  Deadman12314                      Lol he took my spotted cape          0   \n",
       "\n",
       "   time   spam  \n",
       "0    10  False  \n",
       "1    10  False  \n",
       "2    30  False  \n",
       "3    38  False  \n",
       "4    60  False  \n",
       "5    65  False  \n",
       "6    72  False  \n",
       "7    82  False  \n",
       "8   110  False  \n",
       "9   111  False  "
      ]
     },
     "execution_count": 2,
     "metadata": {},
     "output_type": "execute_result"
    }
   ],
   "source": [
    "# Read in original CSV\n",
    "df = pd.read_csv('messagesnew.csv',encoding = 'latin-1', names=['user', 'message', 'logintime', 'time'])\n",
    "# Remove rows with empty user, indicating non-public message, just in case\n",
    "df = df[df['user'] != '']\n",
    "# Add boolean spam field\n",
    "df['spam'] = pd.Series(np.zeros(len(df.index)), dtype=bool)\n",
    "# Remove all messages that contain nbsp, which are duplicates from re-logging\n",
    "df = df[~df['message'].str.encode('UTF-8').apply(lambda x: b'\\xa0' in x)]\n",
    "df.reset_index(drop=True, inplace=True)\n",
    "df.head(10)"
   ]
  },
  {
   "cell_type": "code",
   "execution_count": 3,
   "metadata": {
    "scrolled": true
   },
   "outputs": [
    {
     "data": {
      "text/html": [
       "<div>\n",
       "<style scoped>\n",
       "    .dataframe tbody tr th:only-of-type {\n",
       "        vertical-align: middle;\n",
       "    }\n",
       "\n",
       "    .dataframe tbody tr th {\n",
       "        vertical-align: top;\n",
       "    }\n",
       "\n",
       "    .dataframe thead th {\n",
       "        text-align: right;\n",
       "    }\n",
       "</style>\n",
       "<table border=\"1\" class=\"dataframe\">\n",
       "  <thead>\n",
       "    <tr style=\"text-align: right;\">\n",
       "      <th></th>\n",
       "      <th>user</th>\n",
       "      <th>message</th>\n",
       "    </tr>\n",
       "  </thead>\n",
       "  <tbody>\n",
       "    <tr>\n",
       "      <th>1729</th>\n",
       "      <td>zanabu</td>\n",
       "      <td>Lol</td>\n",
       "    </tr>\n",
       "    <tr>\n",
       "      <th>1772</th>\n",
       "      <td>zanabu</td>\n",
       "      <td>Selling 4k iron ore</td>\n",
       "    </tr>\n",
       "  </tbody>\n",
       "</table>\n",
       "</div>"
      ],
      "text/plain": [
       "        user              message\n",
       "1729  zanabu                  Lol\n",
       "1772  zanabu  Selling 4k iron ore"
      ]
     },
     "metadata": {},
     "output_type": "display_data"
    },
    {
     "data": {
      "application/vnd.jupyter.widget-view+json": {
       "model_id": "dd9d8d60af384576b89181559221699f",
       "version_major": 2,
       "version_minor": 0
      },
      "text/plain": [
       "HBox(children=(Button(button_style='success', description='Not Spam', icon='check', style=ButtonStyle()), Butt…"
      ]
     },
     "metadata": {},
     "output_type": "display_data"
    },
    {
     "data": {
      "text/html": [
       "<div>\n",
       "<style scoped>\n",
       "    .dataframe tbody tr th:only-of-type {\n",
       "        vertical-align: middle;\n",
       "    }\n",
       "\n",
       "    .dataframe tbody tr th {\n",
       "        vertical-align: top;\n",
       "    }\n",
       "\n",
       "    .dataframe thead th {\n",
       "        text-align: right;\n",
       "    }\n",
       "</style>\n",
       "<table border=\"1\" class=\"dataframe\">\n",
       "  <thead>\n",
       "    <tr style=\"text-align: right;\">\n",
       "      <th></th>\n",
       "      <th>user</th>\n",
       "      <th>message</th>\n",
       "    </tr>\n",
       "  </thead>\n",
       "  <tbody>\n",
       "    <tr>\n",
       "      <th>5320</th>\n",
       "      <td>zenyzs</td>\n",
       "      <td>Giving away iron mace free</td>\n",
       "    </tr>\n",
       "  </tbody>\n",
       "</table>\n",
       "</div>"
      ],
      "text/plain": [
       "        user                     message\n",
       "5320  zenyzs  Giving away iron mace free"
      ]
     },
     "metadata": {},
     "output_type": "display_data"
    },
    {
     "data": {
      "application/vnd.jupyter.widget-view+json": {
       "model_id": "b12228ee320f476ca852ad6b0fd473d7",
       "version_major": 2,
       "version_minor": 0
      },
      "text/plain": [
       "HBox(children=(Button(button_style='success', description='Not Spam', icon='check', style=ButtonStyle()), Butt…"
      ]
     },
     "metadata": {},
     "output_type": "display_data"
    }
   ],
   "source": [
    "# Tag users by spam/no spam\n",
    "\n",
    "def spambutton_cb(user, spam):\n",
    "    def f(_):\n",
    "        df.loc[df['user'] == user, 'spam'] = spam\n",
    "    \n",
    "    return f\n",
    "\n",
    "def display_user():\n",
    "    for user, messages in df.groupby('user'):\n",
    "        notspam = Button(\n",
    "            description='Not Spam',\n",
    "            disabled=False,\n",
    "            button_style='success',\n",
    "            icon='check'\n",
    "        )\n",
    "        spam = Button(\n",
    "            description='Spam',\n",
    "            disabled=False,\n",
    "            button_style='danger',\n",
    "            icon='times'\n",
    "        )\n",
    "        notspam.on_click(spambutton_cb(user, False))\n",
    "        spam.on_click(spambutton_cb(user, True))\n",
    "\n",
    "        display(messages.drop_duplicates('message').head(5)[['user', 'message']])\n",
    "        display(HBox([copy(notspam), copy(spam)]))\n",
    "        yield\n",
    "\n",
    "gen = display_user()\n",
    "\n",
    "def display_user_cluster(_):\n",
    "    clear_output()\n",
    "    next_cluster = Button(\n",
    "            description='Next',\n",
    "            disabled=False,\n",
    "            button_style='info',\n",
    "    )\n",
    "    next_cluster.on_click(display_user_cluster)\n",
    "    \n",
    "    for i in range(10):\n",
    "        try:\n",
    "            next(gen)\n",
    "        except StopIteration:\n",
    "            return\n",
    "    display(next_cluster)\n",
    "\n",
    "display_user_cluster(None)"
   ]
  },
  {
   "cell_type": "code",
   "execution_count": 4,
   "metadata": {},
   "outputs": [],
   "source": [
    "df.to_csv('datasetnew.csv')"
   ]
  },
  {
   "cell_type": "code",
   "execution_count": 52,
   "metadata": {},
   "outputs": [
    {
     "data": {
      "text/plain": [
       "user                                        0gravecover\n",
       "message    150K paid! Try 500K, now you can trust me :)\n",
       "Name: 36194, dtype: object"
      ]
     },
     "metadata": {},
     "output_type": "display_data"
    },
    {
     "data": {
      "application/vnd.jupyter.widget-view+json": {
       "model_id": "ede9f739dc784337ae1cb8894a25368f",
       "version_major": 2,
       "version_minor": 0
      },
      "text/plain": [
       "HBox(children=(Button(button_style='success', description='Not Spam', icon='check', style=ButtonStyle()), Butt…"
      ]
     },
     "metadata": {},
     "output_type": "display_data"
    },
    {
     "data": {
      "text/plain": [
       "user                                        0gravecover\n",
       "message    225K paid! Try 500K, now you can trust me :)\n",
       "Name: 36258, dtype: object"
      ]
     },
     "metadata": {},
     "output_type": "display_data"
    },
    {
     "data": {
      "application/vnd.jupyter.widget-view+json": {
       "model_id": "dfe9e898d8e04a7eacc8581cff7338e4",
       "version_major": 2,
       "version_minor": 0
      },
      "text/plain": [
       "HBox(children=(Button(button_style='success', description='Not Spam', icon='check', style=ButtonStyle()), Butt…"
      ]
     },
     "metadata": {},
     "output_type": "display_data"
    },
    {
     "data": {
      "text/plain": [
       "user                                            Soonpown2808\n",
       "message    [Soonpown2808] | 52 to 100 | 100K to 246M | Ea...\n",
       "Name: 36292, dtype: object"
      ]
     },
     "metadata": {},
     "output_type": "display_data"
    },
    {
     "data": {
      "application/vnd.jupyter.widget-view+json": {
       "model_id": "ba49d5dd5e9f4c6db2a8a283fe216e97",
       "version_major": 2,
       "version_minor": 0
      },
      "text/plain": [
       "HBox(children=(Button(button_style='success', description='Not Spam', icon='check', style=ButtonStyle()), Butt…"
      ]
     },
     "metadata": {},
     "output_type": "display_data"
    },
    {
     "data": {
      "text/plain": [
       "user                                             0gravecover\n",
       "message    Tripling money | Legit | 50K min 500K max | 2x...\n",
       "Name: 36927, dtype: object"
      ]
     },
     "metadata": {},
     "output_type": "display_data"
    },
    {
     "data": {
      "application/vnd.jupyter.widget-view+json": {
       "model_id": "6b9f03da1daf4a5abb436730db6420f2",
       "version_major": 2,
       "version_minor": 0
      },
      "text/plain": [
       "HBox(children=(Button(button_style='success', description='Not Spam', icon='check', style=ButtonStyle()), Butt…"
      ]
     },
     "metadata": {},
     "output_type": "display_data"
    },
    {
     "data": {
      "text/plain": [
       "user                                             0gravecover\n",
       "message    Tripling money | Legit | 50K min 500K max | 2x...\n",
       "Name: 36932, dtype: object"
      ]
     },
     "metadata": {},
     "output_type": "display_data"
    },
    {
     "data": {
      "application/vnd.jupyter.widget-view+json": {
       "model_id": "f8c7ecf5aa834dc5ac0a896b68460d92",
       "version_major": 2,
       "version_minor": 0
      },
      "text/plain": [
       "HBox(children=(Button(button_style='success', description='Not Spam', icon='check', style=ButtonStyle()), Butt…"
      ]
     },
     "metadata": {},
     "output_type": "display_data"
    },
    {
     "data": {
      "text/plain": [
       "user                                                RNG 1953\n",
       "message    Trade accepted for Phorcyz amount:201K [20:11:07]\n",
       "Name: 36972, dtype: object"
      ]
     },
     "metadata": {},
     "output_type": "display_data"
    },
    {
     "data": {
      "application/vnd.jupyter.widget-view+json": {
       "model_id": "bed705dbc24e4f1b835c38aefb232783",
       "version_major": 2,
       "version_minor": 0
      },
      "text/plain": [
       "HBox(children=(Button(button_style='success', description='Not Spam', icon='check', style=ButtonStyle()), Butt…"
      ]
     },
     "metadata": {},
     "output_type": "display_data"
    },
    {
     "data": {
      "text/plain": [
       "user                                             RNG 1953\n",
       "message    Phorcyz has lost with a roll of [6] [20:11:11]\n",
       "Name: 36974, dtype: object"
      ]
     },
     "metadata": {},
     "output_type": "display_data"
    },
    {
     "data": {
      "application/vnd.jupyter.widget-view+json": {
       "model_id": "d64571cf2b664835978f7174bf8a04d8",
       "version_major": 2,
       "version_minor": 0
      },
      "text/plain": [
       "HBox(children=(Button(button_style='success', description='Not Spam', icon='check', style=ButtonStyle()), Butt…"
      ]
     },
     "metadata": {},
     "output_type": "display_data"
    }
   ],
   "source": [
    "# Further look at individual spam messages to verify they are actually spam\n",
    "\n",
    "def spambutton_cb(index, spam):\n",
    "    def f(_):\n",
    "        df.iloc[index]['spam'] = spam\n",
    "    \n",
    "    return f\n",
    "\n",
    "def display_msg():\n",
    "    for index, row in df[df['spam']].drop_duplicates('message').iterrows():\n",
    "        notspam = Button(\n",
    "            description='Not Spam',\n",
    "            disabled=False,\n",
    "            button_style='success',\n",
    "            icon='check'\n",
    "        )\n",
    "        spam = Button(\n",
    "            description='Spam',\n",
    "            disabled=False,\n",
    "            button_style='danger',\n",
    "            icon='times'\n",
    "        )\n",
    "        notspam.on_click(spambutton_cb(index, False))\n",
    "        spam.on_click(spambutton_cb(index, True))\n",
    "\n",
    "        display(row[['user', 'message']])\n",
    "        display(HBox([copy(notspam), copy(spam)]))\n",
    "        yield\n",
    "\n",
    "gen = display_msg()\n",
    "\n",
    "def display_msg_cluster(_):\n",
    "    clear_output()\n",
    "    next_cluster = Button(\n",
    "            description='Next',\n",
    "            disabled=False,\n",
    "            button_style='info',\n",
    "    )\n",
    "    next_cluster.on_click(display_msg_cluster)\n",
    "    \n",
    "    for i in range(50):\n",
    "        try:\n",
    "            next(gen)\n",
    "        except StopIteration:\n",
    "            return\n",
    "    display(next_cluster)\n",
    "\n",
    "display_msg_cluster(None)"
   ]
  },
  {
   "cell_type": "code",
   "execution_count": 54,
   "metadata": {},
   "outputs": [
    {
     "data": {
      "text/html": [
       "<div>\n",
       "<style scoped>\n",
       "    .dataframe tbody tr th:only-of-type {\n",
       "        vertical-align: middle;\n",
       "    }\n",
       "\n",
       "    .dataframe tbody tr th {\n",
       "        vertical-align: top;\n",
       "    }\n",
       "\n",
       "    .dataframe thead th {\n",
       "        text-align: right;\n",
       "    }\n",
       "</style>\n",
       "<table border=\"1\" class=\"dataframe\">\n",
       "  <thead>\n",
       "    <tr style=\"text-align: right;\">\n",
       "      <th></th>\n",
       "      <th>user</th>\n",
       "      <th>message</th>\n",
       "      <th>spam</th>\n",
       "    </tr>\n",
       "  </thead>\n",
       "  <tbody>\n",
       "    <tr>\n",
       "      <th>5124</th>\n",
       "      <td>littlespice2</td>\n",
       "      <td>Doubling gp or items 50mil left</td>\n",
       "      <td>True</td>\n",
       "    </tr>\n",
       "    <tr>\n",
       "      <th>5147</th>\n",
       "      <td>littlespice2</td>\n",
       "      <td>Doubling gp or items 50mil left</td>\n",
       "      <td>True</td>\n",
       "    </tr>\n",
       "    <tr>\n",
       "      <th>5168</th>\n",
       "      <td>littlespice2</td>\n",
       "      <td>Doubling gp or items 50mil left</td>\n",
       "      <td>True</td>\n",
       "    </tr>\n",
       "    <tr>\n",
       "      <th>16779</th>\n",
       "      <td>littlespice2</td>\n",
       "      <td>Doubling gp or items ~567mil left</td>\n",
       "      <td>True</td>\n",
       "    </tr>\n",
       "    <tr>\n",
       "      <th>16800</th>\n",
       "      <td>littlespice2</td>\n",
       "      <td>Doubling gp or items ~567mil left</td>\n",
       "      <td>True</td>\n",
       "    </tr>\n",
       "    <tr>\n",
       "      <th>16841</th>\n",
       "      <td>littlespice2</td>\n",
       "      <td>Doubling gp or items</td>\n",
       "      <td>True</td>\n",
       "    </tr>\n",
       "    <tr>\n",
       "      <th>16943</th>\n",
       "      <td>littlespice2</td>\n",
       "      <td>Doubling gp or items ~367mil left</td>\n",
       "      <td>True</td>\n",
       "    </tr>\n",
       "    <tr>\n",
       "      <th>16962</th>\n",
       "      <td>littlespice2</td>\n",
       "      <td>Doubling gp or items ~367mil left</td>\n",
       "      <td>True</td>\n",
       "    </tr>\n",
       "    <tr>\n",
       "      <th>27857</th>\n",
       "      <td>littlespice2</td>\n",
       "      <td>Buying ss 400k</td>\n",
       "      <td>True</td>\n",
       "    </tr>\n",
       "    <tr>\n",
       "      <th>27873</th>\n",
       "      <td>littlespice2</td>\n",
       "      <td>Buying ss 400k</td>\n",
       "      <td>True</td>\n",
       "    </tr>\n",
       "    <tr>\n",
       "      <th>27883</th>\n",
       "      <td>littlespice2</td>\n",
       "      <td>Buying ss 400k</td>\n",
       "      <td>True</td>\n",
       "    </tr>\n",
       "    <tr>\n",
       "      <th>27917</th>\n",
       "      <td>littlespice2</td>\n",
       "      <td>Buying ss 400k</td>\n",
       "      <td>True</td>\n",
       "    </tr>\n",
       "    <tr>\n",
       "      <th>27938</th>\n",
       "      <td>littlespice2</td>\n",
       "      <td>Buying ss 400k</td>\n",
       "      <td>True</td>\n",
       "    </tr>\n",
       "    <tr>\n",
       "      <th>32397</th>\n",
       "      <td>littlespice2</td>\n",
       "      <td>Bruh</td>\n",
       "      <td>True</td>\n",
       "    </tr>\n",
       "    <tr>\n",
       "      <th>32398</th>\n",
       "      <td>littlespice2</td>\n",
       "      <td>Wtf just happened</td>\n",
       "      <td>True</td>\n",
       "    </tr>\n",
       "    <tr>\n",
       "      <th>32400</th>\n",
       "      <td>littlespice2</td>\n",
       "      <td>That was insane</td>\n",
       "      <td>True</td>\n",
       "    </tr>\n",
       "    <tr>\n",
       "      <th>32408</th>\n",
       "      <td>littlespice2</td>\n",
       "      <td>I just made 6mil haha</td>\n",
       "      <td>True</td>\n",
       "    </tr>\n",
       "    <tr>\n",
       "      <th>32487</th>\n",
       "      <td>littlespice2</td>\n",
       "      <td>Omg</td>\n",
       "      <td>True</td>\n",
       "    </tr>\n",
       "    <tr>\n",
       "      <th>32490</th>\n",
       "      <td>littlespice2</td>\n",
       "      <td>Hahhahahha</td>\n",
       "      <td>True</td>\n",
       "    </tr>\n",
       "    <tr>\n",
       "      <th>32707</th>\n",
       "      <td>littlespice2</td>\n",
       "      <td>Heart</td>\n",
       "      <td>True</td>\n",
       "    </tr>\n",
       "  </tbody>\n",
       "</table>\n",
       "</div>"
      ],
      "text/plain": [
       "               user                            message  spam\n",
       "5124   littlespice2    Doubling gp or items 50mil left  True\n",
       "5147   littlespice2    Doubling gp or items 50mil left  True\n",
       "5168   littlespice2    Doubling gp or items 50mil left  True\n",
       "16779  littlespice2  Doubling gp or items ~567mil left  True\n",
       "16800  littlespice2  Doubling gp or items ~567mil left  True\n",
       "16841  littlespice2              Doubling gp or items   True\n",
       "16943  littlespice2  Doubling gp or items ~367mil left  True\n",
       "16962  littlespice2  Doubling gp or items ~367mil left  True\n",
       "27857  littlespice2                     Buying ss 400k  True\n",
       "27873  littlespice2                     Buying ss 400k  True\n",
       "27883  littlespice2                     Buying ss 400k  True\n",
       "27917  littlespice2                     Buying ss 400k  True\n",
       "27938  littlespice2                     Buying ss 400k  True\n",
       "32397  littlespice2                               Bruh  True\n",
       "32398  littlespice2                  Wtf just happened  True\n",
       "32400  littlespice2                    That was insane  True\n",
       "32408  littlespice2              I just made 6mil haha  True\n",
       "32487  littlespice2                                Omg  True\n",
       "32490  littlespice2                         Hahhahahha  True\n",
       "32707  littlespice2                              Heart  True"
      ]
     },
     "execution_count": 54,
     "metadata": {},
     "output_type": "execute_result"
    }
   ],
   "source": [
    "df[df['user'] == 'littlespice2']"
   ]
  },
  {
   "cell_type": "code",
   "execution_count": null,
   "metadata": {},
   "outputs": [],
   "source": []
  }
 ],
 "metadata": {
  "kernelspec": {
   "display_name": "Python 3",
   "language": "python",
   "name": "python3"
  },
  "language_info": {
   "codemirror_mode": {
    "name": "ipython",
    "version": 3
   },
   "file_extension": ".py",
   "mimetype": "text/x-python",
   "name": "python",
   "nbconvert_exporter": "python",
   "pygments_lexer": "ipython3",
   "version": "3.7.2"
  }
 },
 "nbformat": 4,
 "nbformat_minor": 2
}
