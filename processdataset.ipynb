{
 "cells": [
  {
   "cell_type": "markdown",
   "metadata": {},
   "source": [
    "## Process and Label Dataset\n",
    "\n",
    "Here, we take as input a collected `messages.csv`, load it into a DataFrame, and iterate through the users/messages, displaying them (grouped by user) so they can be manually labelled as spam or not spam and output into `dataset.csv`."
   ]
  },
  {
   "cell_type": "code",
   "execution_count": 15,
   "metadata": {},
   "outputs": [],
   "source": [
    "import pandas as pd\n",
    "import numpy as np\n",
    "from ipywidgets import Button, HBox, VBox\n",
    "from IPython.display import display, clear_output\n",
    "from copy import copy"
   ]
  },
  {
   "cell_type": "code",
   "execution_count": 14,
   "metadata": {},
   "outputs": [
    {
     "data": {
      "text/html": [
       "<div>\n",
       "<style scoped>\n",
       "    .dataframe tbody tr th:only-of-type {\n",
       "        vertical-align: middle;\n",
       "    }\n",
       "\n",
       "    .dataframe tbody tr th {\n",
       "        vertical-align: top;\n",
       "    }\n",
       "\n",
       "    .dataframe thead th {\n",
       "        text-align: right;\n",
       "    }\n",
       "</style>\n",
       "<table border=\"1\" class=\"dataframe\">\n",
       "  <thead>\n",
       "    <tr style=\"text-align: right;\">\n",
       "      <th></th>\n",
       "      <th>user</th>\n",
       "      <th>message</th>\n",
       "      <th>spam</th>\n",
       "    </tr>\n",
       "  </thead>\n",
       "  <tbody>\n",
       "    <tr>\n",
       "      <th>0</th>\n",
       "      <td>im kurupted</td>\n",
       "      <td>G11111</td>\n",
       "      <td>False</td>\n",
       "    </tr>\n",
       "    <tr>\n",
       "      <th>1</th>\n",
       "      <td>Arbuckleee</td>\n",
       "      <td>Hurry up before all of the gold is given away !!!</td>\n",
       "      <td>False</td>\n",
       "    </tr>\n",
       "    <tr>\n",
       "      <th>2</th>\n",
       "      <td>Marbellizer</td>\n",
       "      <td>Well hard to say for exact lvls, its just a bi...</td>\n",
       "      <td>False</td>\n",
       "    </tr>\n",
       "    <tr>\n",
       "      <th>3</th>\n",
       "      <td>Arbuckleee</td>\n",
       "      <td>Massive 2.1b giveaway happening right now, sea...</td>\n",
       "      <td>False</td>\n",
       "    </tr>\n",
       "    <tr>\n",
       "      <th>4</th>\n",
       "      <td>Marbellizer</td>\n",
       "      <td>Dps usually but if you wanna see exact numers ...</td>\n",
       "      <td>False</td>\n",
       "    </tr>\n",
       "    <tr>\n",
       "      <th>5</th>\n",
       "      <td>Arbuckleee</td>\n",
       "      <td>Trade me after posting your nickname on the fo...</td>\n",
       "      <td>False</td>\n",
       "    </tr>\n",
       "    <tr>\n",
       "      <th>6</th>\n",
       "      <td>Marbellizer</td>\n",
       "      <td>Spreadsheets</td>\n",
       "      <td>False</td>\n",
       "    </tr>\n",
       "    <tr>\n",
       "      <th>7</th>\n",
       "      <td>Arbuckleee</td>\n",
       "      <td>Search Munk23 on Faceb00k to participate in a ...</td>\n",
       "      <td>False</td>\n",
       "    </tr>\n",
       "    <tr>\n",
       "      <th>8</th>\n",
       "      <td>Marbellizer</td>\n",
       "      <td>And existing metas for bosses</td>\n",
       "      <td>False</td>\n",
       "    </tr>\n",
       "    <tr>\n",
       "      <th>9</th>\n",
       "      <td>xLouis</td>\n",
       "      <td>...</td>\n",
       "      <td>False</td>\n",
       "    </tr>\n",
       "  </tbody>\n",
       "</table>\n",
       "</div>"
      ],
      "text/plain": [
       "          user                                            message   spam\n",
       "0  im kurupted                                             G11111  False\n",
       "1   Arbuckleee  Hurry up before all of the gold is given away !!!  False\n",
       "2  Marbellizer  Well hard to say for exact lvls, its just a bi...  False\n",
       "3   Arbuckleee  Massive 2.1b giveaway happening right now, sea...  False\n",
       "4  Marbellizer  Dps usually but if you wanna see exact numers ...  False\n",
       "5   Arbuckleee  Trade me after posting your nickname on the fo...  False\n",
       "6  Marbellizer                                       Spreadsheets  False\n",
       "7   Arbuckleee  Search Munk23 on Faceb00k to participate in a ...  False\n",
       "8  Marbellizer                      And existing metas for bosses  False\n",
       "9       xLouis                                                ...  False"
      ]
     },
     "execution_count": 14,
     "metadata": {},
     "output_type": "execute_result"
    }
   ],
   "source": [
    "# Read in original CSV\n",
    "df = pd.read_csv('messages.csv',encoding = 'latin-1', names=['user', 'message'])\n",
    "# Remove rows with empty user, indicating non-public message, just in case\n",
    "df = df[df['user'] != '']\n",
    "# Add boolean spam field\n",
    "df['spam'] = pd.Series(np.zeros(len(df.index)), dtype=bool)\n",
    "# Remove all messages that contain nbsp, which are duplicates from re-logging\n",
    "df = df[~df['message'].str.encode('UTF-8').apply(lambda x: b'\\xa0' in x)]\n",
    "df.reset_index(drop=True, inplace=True)\n",
    "df.head(10)"
   ]
  },
  {
   "cell_type": "code",
   "execution_count": 32,
   "metadata": {},
   "outputs": [
    {
     "data": {
      "text/plain": [
       "[('007KingDude',               user         message   spam\n",
       "  24467  007KingDude  Bond give away  False\n",
       "  24561  007KingDude  Bond give away  False)]"
      ]
     },
     "execution_count": 32,
     "metadata": {},
     "output_type": "execute_result"
    }
   ],
   "source": [
    "list(df.groupby('user'))[0:1]"
   ]
  },
  {
   "cell_type": "code",
   "execution_count": 39,
   "metadata": {
    "scrolled": false
   },
   "outputs": [
    {
     "data": {
      "text/html": [
       "<div>\n",
       "<style scoped>\n",
       "    .dataframe tbody tr th:only-of-type {\n",
       "        vertical-align: middle;\n",
       "    }\n",
       "\n",
       "    .dataframe tbody tr th {\n",
       "        vertical-align: top;\n",
       "    }\n",
       "\n",
       "    .dataframe thead th {\n",
       "        text-align: right;\n",
       "    }\n",
       "</style>\n",
       "<table border=\"1\" class=\"dataframe\">\n",
       "  <thead>\n",
       "    <tr style=\"text-align: right;\">\n",
       "      <th></th>\n",
       "      <th>user</th>\n",
       "      <th>message</th>\n",
       "    </tr>\n",
       "  </thead>\n",
       "  <tbody>\n",
       "    <tr>\n",
       "      <th>28815</th>\n",
       "      <td>zac1</td>\n",
       "      <td>Cispy</td>\n",
       "    </tr>\n",
       "    <tr>\n",
       "      <th>28836</th>\n",
       "      <td>zac1</td>\n",
       "      <td>Ok</td>\n",
       "    </tr>\n",
       "    <tr>\n",
       "      <th>28901</th>\n",
       "      <td>zac1</td>\n",
       "      <td>Your fake exacly my point</td>\n",
       "    </tr>\n",
       "  </tbody>\n",
       "</table>\n",
       "</div>"
      ],
      "text/plain": [
       "       user                    message\n",
       "28815  zac1                      Cispy\n",
       "28836  zac1                         Ok\n",
       "28901  zac1  Your fake exacly my point"
      ]
     },
     "metadata": {},
     "output_type": "display_data"
    },
    {
     "data": {
      "application/vnd.jupyter.widget-view+json": {
       "model_id": "e48391a6a35743ddacd274ae29c4b63b",
       "version_major": 2,
       "version_minor": 0
      },
      "text/plain": [
       "HBox(children=(Button(button_style='success', description='Not Spam', icon='check', style=ButtonStyle()), Butt…"
      ]
     },
     "metadata": {},
     "output_type": "display_data"
    },
    {
     "data": {
      "text/html": [
       "<div>\n",
       "<style scoped>\n",
       "    .dataframe tbody tr th:only-of-type {\n",
       "        vertical-align: middle;\n",
       "    }\n",
       "\n",
       "    .dataframe tbody tr th {\n",
       "        vertical-align: top;\n",
       "    }\n",
       "\n",
       "    .dataframe thead th {\n",
       "        text-align: right;\n",
       "    }\n",
       "</style>\n",
       "<table border=\"1\" class=\"dataframe\">\n",
       "  <thead>\n",
       "    <tr style=\"text-align: right;\">\n",
       "      <th></th>\n",
       "      <th>user</th>\n",
       "      <th>message</th>\n",
       "    </tr>\n",
       "  </thead>\n",
       "  <tbody>\n",
       "    <tr>\n",
       "      <th>11509</th>\n",
       "      <td>zamrkfiesta</td>\n",
       "      <td>Yee</td>\n",
       "    </tr>\n",
       "    <tr>\n",
       "      <th>11535</th>\n",
       "      <td>zamrkfiesta</td>\n",
       "      <td>Blue sucks</td>\n",
       "    </tr>\n",
       "    <tr>\n",
       "      <th>11639</th>\n",
       "      <td>zamrkfiesta</td>\n",
       "      <td>Lol Xd</td>\n",
       "    </tr>\n",
       "  </tbody>\n",
       "</table>\n",
       "</div>"
      ],
      "text/plain": [
       "              user     message\n",
       "11509  zamrkfiesta         Yee\n",
       "11535  zamrkfiesta  Blue sucks\n",
       "11639  zamrkfiesta      Lol Xd"
      ]
     },
     "metadata": {},
     "output_type": "display_data"
    },
    {
     "data": {
      "application/vnd.jupyter.widget-view+json": {
       "model_id": "25b18422686740028b05ab7e266c2886",
       "version_major": 2,
       "version_minor": 0
      },
      "text/plain": [
       "HBox(children=(Button(button_style='success', description='Not Spam', icon='check', style=ButtonStyle()), Butt…"
      ]
     },
     "metadata": {},
     "output_type": "display_data"
    },
    {
     "data": {
      "text/html": [
       "<div>\n",
       "<style scoped>\n",
       "    .dataframe tbody tr th:only-of-type {\n",
       "        vertical-align: middle;\n",
       "    }\n",
       "\n",
       "    .dataframe tbody tr th {\n",
       "        vertical-align: top;\n",
       "    }\n",
       "\n",
       "    .dataframe thead th {\n",
       "        text-align: right;\n",
       "    }\n",
       "</style>\n",
       "<table border=\"1\" class=\"dataframe\">\n",
       "  <thead>\n",
       "    <tr style=\"text-align: right;\">\n",
       "      <th></th>\n",
       "      <th>user</th>\n",
       "      <th>message</th>\n",
       "    </tr>\n",
       "  </thead>\n",
       "  <tbody>\n",
       "    <tr>\n",
       "      <th>24478</th>\n",
       "      <td>zanabu</td>\n",
       "      <td>Noty</td>\n",
       "    </tr>\n",
       "  </tbody>\n",
       "</table>\n",
       "</div>"
      ],
      "text/plain": [
       "         user message\n",
       "24478  zanabu    Noty"
      ]
     },
     "metadata": {},
     "output_type": "display_data"
    },
    {
     "data": {
      "application/vnd.jupyter.widget-view+json": {
       "model_id": "42ba0134def449d7a8c50aa77f9fd876",
       "version_major": 2,
       "version_minor": 0
      },
      "text/plain": [
       "HBox(children=(Button(button_style='success', description='Not Spam', icon='check', style=ButtonStyle()), Butt…"
      ]
     },
     "metadata": {},
     "output_type": "display_data"
    },
    {
     "data": {
      "text/html": [
       "<div>\n",
       "<style scoped>\n",
       "    .dataframe tbody tr th:only-of-type {\n",
       "        vertical-align: middle;\n",
       "    }\n",
       "\n",
       "    .dataframe tbody tr th {\n",
       "        vertical-align: top;\n",
       "    }\n",
       "\n",
       "    .dataframe thead th {\n",
       "        text-align: right;\n",
       "    }\n",
       "</style>\n",
       "<table border=\"1\" class=\"dataframe\">\n",
       "  <thead>\n",
       "    <tr style=\"text-align: right;\">\n",
       "      <th></th>\n",
       "      <th>user</th>\n",
       "      <th>message</th>\n",
       "    </tr>\n",
       "  </thead>\n",
       "  <tbody>\n",
       "    <tr>\n",
       "      <th>20704</th>\n",
       "      <td>zeuhs1980</td>\n",
       "      <td>Kkkkk</td>\n",
       "    </tr>\n",
       "  </tbody>\n",
       "</table>\n",
       "</div>"
      ],
      "text/plain": [
       "            user message\n",
       "20704  zeuhs1980   Kkkkk"
      ]
     },
     "metadata": {},
     "output_type": "display_data"
    },
    {
     "data": {
      "application/vnd.jupyter.widget-view+json": {
       "model_id": "f4c832675ff144f2b1bf0c28d1170210",
       "version_major": 2,
       "version_minor": 0
      },
      "text/plain": [
       "HBox(children=(Button(button_style='success', description='Not Spam', icon='check', style=ButtonStyle()), Butt…"
      ]
     },
     "metadata": {},
     "output_type": "display_data"
    },
    {
     "data": {
      "text/html": [
       "<div>\n",
       "<style scoped>\n",
       "    .dataframe tbody tr th:only-of-type {\n",
       "        vertical-align: middle;\n",
       "    }\n",
       "\n",
       "    .dataframe tbody tr th {\n",
       "        vertical-align: top;\n",
       "    }\n",
       "\n",
       "    .dataframe thead th {\n",
       "        text-align: right;\n",
       "    }\n",
       "</style>\n",
       "<table border=\"1\" class=\"dataframe\">\n",
       "  <thead>\n",
       "    <tr style=\"text-align: right;\">\n",
       "      <th></th>\n",
       "      <th>user</th>\n",
       "      <th>message</th>\n",
       "    </tr>\n",
       "  </thead>\n",
       "  <tbody>\n",
       "    <tr>\n",
       "      <th>21024</th>\n",
       "      <td>zez30</td>\n",
       "      <td>Can any1 spare some gold please so i can train...</td>\n",
       "    </tr>\n",
       "    <tr>\n",
       "      <th>21061</th>\n",
       "      <td>zez30</td>\n",
       "      <td>Can any1 spare some gold please</td>\n",
       "    </tr>\n",
       "  </tbody>\n",
       "</table>\n",
       "</div>"
      ],
      "text/plain": [
       "        user                                            message\n",
       "21024  zez30  Can any1 spare some gold please so i can train...\n",
       "21061  zez30                    Can any1 spare some gold please"
      ]
     },
     "metadata": {},
     "output_type": "display_data"
    },
    {
     "data": {
      "application/vnd.jupyter.widget-view+json": {
       "model_id": "ceb561f306b043d6a48535c96fb6613d",
       "version_major": 2,
       "version_minor": 0
      },
      "text/plain": [
       "HBox(children=(Button(button_style='success', description='Not Spam', icon='check', style=ButtonStyle()), Butt…"
      ]
     },
     "metadata": {},
     "output_type": "display_data"
    },
    {
     "data": {
      "text/html": [
       "<div>\n",
       "<style scoped>\n",
       "    .dataframe tbody tr th:only-of-type {\n",
       "        vertical-align: middle;\n",
       "    }\n",
       "\n",
       "    .dataframe tbody tr th {\n",
       "        vertical-align: top;\n",
       "    }\n",
       "\n",
       "    .dataframe thead th {\n",
       "        text-align: right;\n",
       "    }\n",
       "</style>\n",
       "<table border=\"1\" class=\"dataframe\">\n",
       "  <thead>\n",
       "    <tr style=\"text-align: right;\">\n",
       "      <th></th>\n",
       "      <th>user</th>\n",
       "      <th>message</th>\n",
       "    </tr>\n",
       "  </thead>\n",
       "  <tbody>\n",
       "    <tr>\n",
       "      <th>6129</th>\n",
       "      <td>z 1 n k</td>\n",
       "      <td>110k</td>\n",
       "    </tr>\n",
       "    <tr>\n",
       "      <th>6133</th>\n",
       "      <td>z 1 n k</td>\n",
       "      <td>110k addy tip</td>\n",
       "    </tr>\n",
       "  </tbody>\n",
       "</table>\n",
       "</div>"
      ],
      "text/plain": [
       "         user        message\n",
       "6129  z 1 n k           110k\n",
       "6133  z 1 n k  110k addy tip"
      ]
     },
     "metadata": {},
     "output_type": "display_data"
    },
    {
     "data": {
      "application/vnd.jupyter.widget-view+json": {
       "model_id": "56995edd42b54a00b737fa0d57939e50",
       "version_major": 2,
       "version_minor": 0
      },
      "text/plain": [
       "HBox(children=(Button(button_style='success', description='Not Spam', icon='check', style=ButtonStyle()), Butt…"
      ]
     },
     "metadata": {},
     "output_type": "display_data"
    }
   ],
   "source": [
    "# This part of the code is disgusting and throws errors at the end but it works well enough without crashing my browser\n",
    "\n",
    "def spambutton_cb(user, spam):\n",
    "    def f(_):\n",
    "        df.loc[df['user'] == user, 'spam'] = spam\n",
    "    \n",
    "    return f\n",
    "\n",
    "def display_user():\n",
    "    for user, messages in df.groupby('user'):\n",
    "        notspam = Button(\n",
    "            description='Not Spam',\n",
    "            disabled=False,\n",
    "            button_style='success',\n",
    "            icon='check'\n",
    "        )\n",
    "        spam = Button(\n",
    "            description='Spam',\n",
    "            disabled=False,\n",
    "            button_style='danger',\n",
    "            icon='times'\n",
    "        )\n",
    "        notspam.on_click(spambutton_cb(user, False))\n",
    "        spam.on_click(spambutton_cb(user, True))\n",
    "\n",
    "        display(messages.drop_duplicates('message').head(3)[['user', 'message']])\n",
    "        display(HBox([copy(notspam), copy(spam)]))\n",
    "        yield\n",
    "\n",
    "gen = display_user()\n",
    "\n",
    "def display_user_cluster(_):\n",
    "    clear_output()\n",
    "    next_cluster = Button(\n",
    "            description='Next',\n",
    "            disabled=False,\n",
    "            button_style='info',\n",
    "    )\n",
    "    next_cluster.on_click(display_user_cluster)\n",
    "    \n",
    "    for i in range(10):\n",
    "        try:\n",
    "            next(gen)\n",
    "        except StopIteration:\n",
    "            return\n",
    "    display(next_cluster)\n",
    "\n",
    "display_user_cluster(None)"
   ]
  },
  {
   "cell_type": "code",
   "execution_count": 40,
   "metadata": {},
   "outputs": [],
   "source": [
    "df.to_csv('dataset.csv')"
   ]
  },
  {
   "cell_type": "code",
   "execution_count": 7,
   "metadata": {},
   "outputs": [
    {
     "name": "stdout",
     "output_type": "stream",
     "text": [
      "b'A furyk'\n",
      "b'A\\xc2\\xa0furyk'\n"
     ]
    },
    {
     "data": {
      "text/plain": [
       "b'A furyk'"
      ]
     },
     "execution_count": 7,
     "metadata": {},
     "output_type": "execute_result"
    }
   ],
   "source": [
    "a = \"A furyk\"\n",
    "b = \"A furyk\"\n",
    "print(a.encode('utf-8'))\n",
    "print(b.encode('utf-8'))\n",
    "import unicodedata\n",
    "unicodedata.normalize('NFKD', a).encode('ascii','ignore')"
   ]
  },
  {
   "cell_type": "code",
   "execution_count": 27,
   "metadata": {},
   "outputs": [
    {
     "data": {
      "text/html": [
       "<div>\n",
       "<style scoped>\n",
       "    .dataframe tbody tr th:only-of-type {\n",
       "        vertical-align: middle;\n",
       "    }\n",
       "\n",
       "    .dataframe tbody tr th {\n",
       "        vertical-align: top;\n",
       "    }\n",
       "\n",
       "    .dataframe thead th {\n",
       "        text-align: right;\n",
       "    }\n",
       "</style>\n",
       "<table border=\"1\" class=\"dataframe\">\n",
       "  <thead>\n",
       "    <tr style=\"text-align: right;\">\n",
       "      <th></th>\n",
       "      <th>user</th>\n",
       "      <th>message</th>\n",
       "      <th>spam</th>\n",
       "    </tr>\n",
       "  </thead>\n",
       "  <tbody>\n",
       "    <tr>\n",
       "      <th>0</th>\n",
       "      <td>nadiak5</td>\n",
       "      <td>2.5m</td>\n",
       "      <td>False</td>\n",
       "    </tr>\n",
       "    <tr>\n",
       "      <th>1</th>\n",
       "      <td>Knight Askos</td>\n",
       "      <td>A furyk</td>\n",
       "      <td>False</td>\n",
       "    </tr>\n",
       "    <tr>\n",
       "      <th>2</th>\n",
       "      <td>HeyBeeeeta</td>\n",
       "      <td>Looking for any generous players kind enough t...</td>\n",
       "      <td>False</td>\n",
       "    </tr>\n",
       "    <tr>\n",
       "      <th>3</th>\n",
       "      <td>Begfor11Buns</td>\n",
       "      <td>No</td>\n",
       "      <td>False</td>\n",
       "    </tr>\n",
       "    <tr>\n",
       "      <th>4</th>\n",
       "      <td>Granular</td>\n",
       "      <td>Allisun come trouble brewing i need med mory d...</td>\n",
       "      <td>False</td>\n",
       "    </tr>\n",
       "    <tr>\n",
       "      <th>5</th>\n",
       "      <td>Knight Askos</td>\n",
       "      <td>Lol</td>\n",
       "      <td>False</td>\n",
       "    </tr>\n",
       "    <tr>\n",
       "      <th>6</th>\n",
       "      <td>Begfor11Buns</td>\n",
       "      <td>Lol</td>\n",
       "      <td>False</td>\n",
       "    </tr>\n",
       "    <tr>\n",
       "      <th>7</th>\n",
       "      <td>nadiak5</td>\n",
       "      <td>2.5m</td>\n",
       "      <td>False</td>\n",
       "    </tr>\n",
       "    <tr>\n",
       "      <th>10</th>\n",
       "      <td>Begfor11Buns</td>\n",
       "      <td>No</td>\n",
       "      <td>False</td>\n",
       "    </tr>\n",
       "    <tr>\n",
       "      <th>12</th>\n",
       "      <td>Knight Askos</td>\n",
       "      <td>Lol</td>\n",
       "      <td>False</td>\n",
       "    </tr>\n",
       "  </tbody>\n",
       "</table>\n",
       "</div>"
      ],
      "text/plain": [
       "            user                                            message   spam\n",
       "0        nadiak5                                               2.5m  False\n",
       "1   Knight Askos                                            A furyk  False\n",
       "2     HeyBeeeeta  Looking for any generous players kind enough t...  False\n",
       "3   Begfor11Buns                                                 No  False\n",
       "4       Granular  Allisun come trouble brewing i need med mory d...  False\n",
       "5   Knight Askos                                                Lol  False\n",
       "6   Begfor11Buns                                                Lol  False\n",
       "7        nadiak5                                               2.5m  False\n",
       "10  Begfor11Buns                                                 No  False\n",
       "12  Knight Askos                                                Lol  False"
      ]
     },
     "execution_count": 27,
     "metadata": {},
     "output_type": "execute_result"
    }
   ],
   "source": [
    "df.head(10)"
   ]
  },
  {
   "cell_type": "code",
   "execution_count": null,
   "metadata": {},
   "outputs": [],
   "source": []
  }
 ],
 "metadata": {
  "kernelspec": {
   "display_name": "Python 3",
   "language": "python",
   "name": "python3"
  },
  "language_info": {
   "codemirror_mode": {
    "name": "ipython",
    "version": 3
   },
   "file_extension": ".py",
   "mimetype": "text/x-python",
   "name": "python",
   "nbconvert_exporter": "python",
   "pygments_lexer": "ipython3",
   "version": "3.7.2"
  }
 },
 "nbformat": 4,
 "nbformat_minor": 2
}
